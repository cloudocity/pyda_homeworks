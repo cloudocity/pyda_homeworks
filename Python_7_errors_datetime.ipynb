{
 "cells": [
  {
   "cell_type": "markdown",
   "metadata": {},
   "source": [
    "# Домашнее задание к лекции «Исключения и обработка ошибок»\n",
    "\n",
    "Задание 1\n",
    "Печатные газеты использовали свой формат дат для каждого выпуска. Для каждой газеты из списка напишите формат указанной даты для перевода в объект datetime:\n",
    "The Moscow Times - Wednesday, October 2, 2002\n",
    "The Guardian - Friday, 11.10.13\n",
    "Daily News - Thursday, 18 August 1977\n",
    "\n",
    "Задание 2\n",
    "Дан поток дат в формате YYYY-MM-DD, в которых встречаются некорректные значения:\n",
    "stream = [‘2018-04-02’, ‘2018-02-29’, ‘2018-19-02’]\n",
    "\n",
    "Напишите функцию, которая проверяет эти даты на корректность. Т. е. для каждой даты возвращает True (дата корректна) или False (некорректная дата).\n",
    "\n",
    "Задание 3\n",
    "Напишите функцию date_range, которая возвращает список дат за период от start_date до end_date. Даты должны вводиться в формате YYYY-MM-DD. В случае неверного формата или при start_date > end_date должен возвращаться пустой список.\n",
    "\n",
    "Задание 4 (бонусное)\n",
    "Ваш коллега прислал код функции:\n",
    "\n",
    "DEFAULT_USER_COUNT = 3\n",
    "\n",
    "def delete_and_return_last_user(region, default_list=[‘A100’, ‘A101’, ‘A102’]):\n",
    "\"\"“\n",
    "Удаляет из списка default_list последнего пользователя\n",
    "и возвращает ID нового последнего пользователя.\n",
    "”\"\"\n",
    "element_to_delete = default_list[-1]\n",
    "default_list.remove(element_to_delete)\n",
    "\n",
    "1\n",
    "return default_list[DEFAULT_USER_COUNT-2]\n",
    "При однократном вызове этой функции все работает корректно:\n",
    "delete_and_return_last_user(1)\n",
    "‘A101’\n",
    "\n",
    "Однако, при повторном вызове получается ошибка IndexError: list index out of range.\n",
    "\n",
    "Задание:\n",
    "\n",
    "Что значит ошибка list index out of range?\n",
    "Почему при первом запуске функция работает корректно, а при втором - нет?\n",
    "Важно! замечание к заданию.\n",
    "\n",
    "**** Для зачета достаточно сделать три задания! (четвертое бонусное)****\n",
    "\n",
    "При копировании с сайта нетологии Jupyter ноутбук изменяет кавычки ’ на `. Прошу учесть данный факт и обращать внимание.\n",
    "Достаточно просто заменить кавычки."
   ]
  },
  {
   "cell_type": "markdown",
   "metadata": {},
   "source": [
    "## Задание 1"
   ]
  },
  {
   "cell_type": "code",
   "execution_count": 35,
   "metadata": {},
   "outputs": [
    {
     "name": "stdout",
     "output_type": "stream",
     "text": [
      "2002-10-02 00:00:00\n",
      "2013-10-11 00:00:00\n",
      "1977-08-18 00:00:00\n"
     ]
    }
   ],
   "source": [
    "from datetime import datetime\n",
    "TMT = 'Wednesday, October 2, 2002'\n",
    "TG = 'Friday, 11.10.13'\n",
    "DN = 'Thursday, 18 August 1977'\n",
    "print(datetime.strptime(TMT, '%A, %B %d, %Y'))\n",
    "print(datetime.strptime(TG, '%A, %d.%m.%y'))\n",
    "print(datetime.strptime(DN, '%A, %d %B %Y'))"
   ]
  },
  {
   "cell_type": "markdown",
   "metadata": {},
   "source": [
    "## Задание 2"
   ]
  },
  {
   "cell_type": "code",
   "execution_count": 10,
   "metadata": {},
   "outputs": [
    {
     "name": "stdout",
     "output_type": "stream",
     "text": [
      "2020-04-02 False\n",
      "2018-02-29 False\n",
      "2013-19-02 False\n",
      "201-01-02 False\n"
     ]
    }
   ],
   "source": [
    "from datetime import datetime\n",
    "stream = ['2020-04-02', '2018-02-29', '2013-19-02','201-01-02']\n",
    "\n",
    "def dt_true(data_stream):\n",
    "    try:\n",
    "        print(datetime.strftime(data_stream, '%Y-%m-%d'), 'True')\n",
    "\n",
    "    except:\n",
    "        print(data_stream, 'False')\n",
    "    \n",
    "for dt in stream:\n",
    "    dt_true(dt)\n",
    "    "
   ]
  },
  {
   "cell_type": "markdown",
   "metadata": {},
   "source": [
    "## Задание 3"
   ]
  },
  {
   "cell_type": "code",
   "execution_count": 9,
   "metadata": {},
   "outputs": [
    {
     "name": "stdout",
     "output_type": "stream",
     "text": [
      "[]\n"
     ]
    }
   ],
   "source": [
    "from datetime import datetime\n",
    "from datetime import timedelta\n",
    "start_date = input('Введите начало периода:')\n",
    "end_date = input('Введите начало периода:')\n",
    "list_dt=[]\n",
    "\n",
    "def date_range(start_date, end_date):\n",
    "    try:\n",
    "        start_date_dt = datetime.strptime(start_date,'%Y-%m-%d')\n",
    "        end_date_dt = datetime.strptime(end_date,'%Y-%m-%d')\n",
    "        \n",
    "        if start_date_dt <= end_date_dt:\n",
    "            \n",
    "            while start_date_dt <= end_date_dt:\n",
    "                list_dt.append(start_date_dt.strftime('%Y-%m-%d'))\n",
    "                start_date_dt += timedelta(days=1)\n",
    "            print(list_dt)\n",
    "            \n",
    "        else:\n",
    "            print(list_dt)\n",
    "            \n",
    "    except:\n",
    "        print(list_dt)\n",
    "        \n",
    "    \n",
    "\n",
    "date_range(start_date, end_date)"
   ]
  }
 ],
 "metadata": {
  "kernelspec": {
   "display_name": "Python 3",
   "language": "python",
   "name": "python3"
  },
  "language_info": {
   "codemirror_mode": {
    "name": "ipython",
    "version": 3
   },
   "file_extension": ".py",
   "mimetype": "text/x-python",
   "name": "python",
   "nbconvert_exporter": "python",
   "pygments_lexer": "ipython3",
   "version": "3.7.9"
  }
 },
 "nbformat": 4,
 "nbformat_minor": 2
}
