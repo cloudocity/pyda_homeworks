{
 "cells": [
  {
   "cell_type": "markdown",
   "metadata": {},
   "source": [
    "** Домашнее задание по лекции находится во вкладке Материалы к лекции Работа с файловой системой и модули, в конце файла с кодом (задача на доработку темы занятия).\n",
    "Готовое решение необходимо прикрепить в эту вкладку.**\n",
    "\n",
    "Домашнее задание\n",
    "Переведите содержимое файла purchase_log.txt в словарь purchases вида:\n",
    "{‘1840e0b9d4’: ‘Продукты’, …}\n",
    "Для каждого user_id в файле visit_log.csv определите третий столбец с категорией покупки (если покупка была, сам файл visit_log.csv изменять не надо). Запишите в файл funnel.csv визиты из файла visit_log.csv, в которых были покупки с указанием категории.\n",
    "Учтите условия на данные:\n",
    "содержимое purchase_log.txt помещается в оперативную память компьютера\n",
    "содержимое visit_log.csv - нет; используйте только построчную обработку этого файла"
   ]
  },
  {
   "cell_type": "code",
   "execution_count": null,
   "metadata": {},
   "outputs": [],
   "source": [
    "import json\n",
    "dict_json = open('purchase_log.txt' ,'r')\n",
    "purchases = {}\n",
    "content = dict_json.readlines()[1:]\n",
    "for line in content:\n",
    "    dict_=json.loads(line)\n",
    "    # Запись значений в словарь purchases\n",
    "    purchases[dict_['user_id']] = dict_['category']\n",
    "    \n",
    "with open('visit_log.csv' , 'r') as visit:\n",
    "    with open('funnel.csv', 'w') as funnelwr:\n",
    "         # Формируем заголовки столбцов\n",
    "        funnelwr.write('user_id, source, category' + '\\n')\n",
    "        for li in visit:\n",
    "            visit_l = li.strip().split(',')\n",
    "            for keys in purchases.keys():\n",
    "                if visit_l[0] == keys:\n",
    "                    funnel = li.strip() +', ' + purchases[keys]\n",
    "                    # Построчная запись в файл\n",
    "                    funnelwr.write(funnel + '\\n')\n",
    "\n"
   ]
  },
  {
   "cell_type": "code",
   "execution_count": null,
   "metadata": {},
   "outputs": [],
   "source": []
  }
 ],
 "metadata": {
  "kernelspec": {
   "display_name": "Python 3",
   "language": "python",
   "name": "python3"
  },
  "language_info": {
   "codemirror_mode": {
    "name": "ipython",
    "version": 3
   },
   "file_extension": ".py",
   "mimetype": "text/x-python",
   "name": "python",
   "nbconvert_exporter": "python",
   "pygments_lexer": "ipython3",
   "version": "3.7.9"
  }
 },
 "nbformat": 4,
 "nbformat_minor": 4
}
