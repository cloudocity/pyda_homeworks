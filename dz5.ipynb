{
 "cells": [
  {
   "cell_type": "code",
   "execution_count": 2,
   "metadata": {},
   "outputs": [],
   "source": [
    "# Перечень всех документов\n",
    "documents = [\n",
    " {'type': 'passport', 'number': '2207 876234', 'name': 'Василий Гупкин'},\n",
    " {'type': 'invoice', 'number': '11-2', 'name': 'Геннадий Покемонов'},\n",
    " {'type': 'insurance', 'number': '10006', 'name': 'Аристарх Павлов'}\n",
    "]\n",
    "# Перечень попок, на которых хранятся документы (если документ есть в documents, то он обязательно должен быть и в directories)\n",
    "directories = {\n",
    " '1': ['2207 876234', '11-2'],\n",
    " '2': ['10006'],\n",
    " '3': []\n",
    "}"
   ]
  },
  {
   "cell_type": "markdown",
   "metadata": {},
   "source": [
    "## Задание №1"
   ]
  },
  {
   "cell_type": "code",
   "execution_count": null,
   "metadata": {},
   "outputs": [
    {
     "name": "stdout",
     "output_type": "stream",
     "text": [
      "Введите команду: p\n",
      "Введите номер документа: 10006\n",
      "Владельцы документа 10006: ['Аристарх Павлов']\n"
     ]
    }
   ],
   "source": [
    "# п.1 - узнать владельца документа по его номеру\n",
    "def vladel_num():\n",
    "    \n",
    "    num_doc = input('Введите номер документа: ')\n",
    "\n",
    "    #получение списка имен с данным номером документа\n",
    "    x=[item[\"name\"] for item in documents if item[\"number\"]==num_doc ]\n",
    "\n",
    "    if len(x)>0:\n",
    "        print(f'Владельцы документа {num_doc}: {x}')\n",
    "    else:\n",
    "        print(f'Владельцы документа {num_doc} не найдены')\n",
    "\n",
    "#-------------------------------------------------   \n",
    "# п.2 - по номеру документа узнать на какой полке он хранится\n",
    "def find_polka():\n",
    " \n",
    "    num_doc = input('Введите номер документа: ')\n",
    "\n",
    "    #получение списка полок с данным номером документа\n",
    "    x=[key for key, val in directories.items() if num_doc in val ]\n",
    "\n",
    "    if len(x)>0:\n",
    "        print(f'Документ {num_doc} хранится на полках: {x}')\n",
    "    else:\n",
    "        print(f'Полки с документом {num_doc} не найдены')\n",
    "\n",
    "#-------------------------------------------------\n",
    "# п.3 - увидеть полную информацию по всем документам\n",
    "def get_info():\n",
    "\n",
    "    for item in documents:\n",
    "        print(f' №: {item[\"number\"]}, тип: {item[\"type\"]}, владелец: {item[\"name\"]}')\n",
    "\n",
    "#-------------------------------------------------\n",
    "# п.4 -  добавить новую полку\n",
    "def add_polka():\n",
    "    \n",
    "    num_doc = str(int(input('Введите номер полки: ')))\n",
    "    \n",
    "    if num_doc in directories.keys():\n",
    "        print(f'Полка №{num_doc} уже есть. Текущий перечень полок: {directories.keys()}')\n",
    "    else:\n",
    "        directories[num_doc] = []\n",
    "        print(f'Полка №{num_doc} добавлена. Текущий перечень полок: {directories.keys()}')\n",
    "\n",
    "#-------------------------------------------------\n",
    "# п.5 -  удалить новую полку\n",
    "def del_polka():\n",
    "\n",
    "    num_shelf = input('Введите номер полки: ')\n",
    "    #l = len(directories[num_shelf])\n",
    "\n",
    "    if not (num_shelf in directories.keys()):\n",
    "        print(f'Некорректный номер полки {num_shelf}')  \n",
    "    elif len(directories[num_shelf])!=0 :\n",
    "        print(f'Полка №{num_shelf} не пустая. Удалите вначале список!')    \n",
    "    else:\n",
    "        del(directories[num_shelf])\n",
    "        print(f'Полка {num_shelf} удалена. Текущий перечень полок: {directories.keys()}')\n",
    "\n",
    "#-------------------------------------------------\n",
    "# обработчик команд\n",
    "def execute_cmd():\n",
    "        \"\"\"\n",
    "        Функция обрабатывает команды с клавиатуры\n",
    "        \"\"\"\n",
    "        cmd = input('Введите команду: ')\n",
    "        if cmd=='p':\n",
    "            vladel_num()\n",
    "        elif cmd=='s':\n",
    "            find_polka()\n",
    "        elif cmd=='l':\n",
    "            get_info()\n",
    "        elif cmd=='ads':\n",
    "            add_polka()\n",
    "        elif cmd=='ds':\n",
    "            del_polka()\n",
    "        elif cmd=='q':\n",
    "            print('Программа завершена')\n",
    "        else: \n",
    "            print('Некорректная команда')\n",
    "        return cmd\n",
    "\n",
    "# Общий вызов\n",
    "def main():\n",
    "    cmd = ''\n",
    "    while cmd!='q':\n",
    "        cmd = execute_cmd()\n",
    "main()"
   ]
  },
  {
   "cell_type": "code",
   "execution_count": null,
   "metadata": {},
   "outputs": [],
   "source": []
  }
 ],
 "metadata": {
  "kernelspec": {
   "display_name": "Python 3",
   "language": "python",
   "name": "python3"
  },
  "language_info": {
   "codemirror_mode": {
    "name": "ipython",
    "version": 3
   },
   "file_extension": ".py",
   "mimetype": "text/x-python",
   "name": "python",
   "nbconvert_exporter": "python",
   "pygments_lexer": "ipython3",
   "version": "3.7.9"
  }
 },
 "nbformat": 4,
 "nbformat_minor": 2
}
